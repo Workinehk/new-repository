{
 "cells": [
  {
   "cell_type": "code",
   "execution_count": 112,
   "id": "9b000e44",
   "metadata": {},
   "outputs": [
    {
     "name": "stdout",
     "output_type": "stream",
     "text": [
      "Requirement already satisfied: tqdm in /opt/anaconda3/lib/python3.11/site-packages (4.65.0)\n",
      "Note: you may need to restart the kernel to use updated packages.\n"
     ]
    }
   ],
   "source": [
    "pip install tqdm\n"
   ]
  },
  {
   "cell_type": "code",
   "execution_count": 759,
   "id": "342cbc3a",
   "metadata": {},
   "outputs": [],
   "source": [
    "import numpy as np\n",
    "import pandas as pd\n",
    "import matplotlib.pyplot as plt\n",
    "import seaborn as sns\n",
    "from sklearn.impute import SimpleImputer\n",
    "from sklearn.model_selection import cross_val_score\n",
    "from sklearn.preprocessing import LabelEncoder\n",
    "from sklearn.model_selection import GridSearchCV\n",
    "from sklearn.model_selection import learning_curve\n",
    "from sklearn.model_selection import train_test_split\n",
    "from sklearn.metrics import accuracy_score, classification_report\n",
    "from sklearn.tree import DecisionTreeClassifier\n",
    "from sklearn.ensemble import RandomForestClassifier\n",
    "from sklearn.linear_model import LogisticRegression\n",
    "from sklearn.preprocessing import StandardScaler\n",
    "from sklearn.preprocessing import MinMaxScaler, OneHotEncoder\n",
    "from sklearn.neighbors import NearestNeighbors\n",
    "from sklearn.metrics import accuracy_score, precision_score, recall_score, f1_score\n"
   ]
  },
  {
   "cell_type": "markdown",
   "id": "b1d869f6",
   "metadata": {},
   "source": [
    "Load data"
   ]
  },
  {
   "cell_type": "code",
   "execution_count": 762,
   "id": "dca4297a",
   "metadata": {},
   "outputs": [],
   "source": [
    "# Load dataset\n",
    "data = pd.read_csv('./Data/medical_data.csv')"
   ]
  },
  {
   "cell_type": "code",
   "execution_count": 764,
   "id": "d37fa23d",
   "metadata": {},
   "outputs": [
    {
     "data": {
      "text/html": [
       "<div>\n",
       "<style scoped>\n",
       "    .dataframe tbody tr th:only-of-type {\n",
       "        vertical-align: middle;\n",
       "    }\n",
       "\n",
       "    .dataframe tbody tr th {\n",
       "        vertical-align: top;\n",
       "    }\n",
       "\n",
       "    .dataframe thead th {\n",
       "        text-align: right;\n",
       "    }\n",
       "</style>\n",
       "<table border=\"1\" class=\"dataframe\">\n",
       "  <thead>\n",
       "    <tr style=\"text-align: right;\">\n",
       "      <th></th>\n",
       "      <th>Name</th>\n",
       "      <th>DateOfBirth</th>\n",
       "      <th>Gender</th>\n",
       "      <th>Symptoms</th>\n",
       "      <th>Causes</th>\n",
       "      <th>Disease</th>\n",
       "      <th>Medicine</th>\n",
       "    </tr>\n",
       "  </thead>\n",
       "  <tbody>\n",
       "    <tr>\n",
       "      <th>count</th>\n",
       "      <td>241</td>\n",
       "      <td>241</td>\n",
       "      <td>242</td>\n",
       "      <td>247</td>\n",
       "      <td>245</td>\n",
       "      <td>249</td>\n",
       "      <td>242</td>\n",
       "    </tr>\n",
       "    <tr>\n",
       "      <th>unique</th>\n",
       "      <td>87</td>\n",
       "      <td>98</td>\n",
       "      <td>4</td>\n",
       "      <td>53</td>\n",
       "      <td>62</td>\n",
       "      <td>68</td>\n",
       "      <td>65</td>\n",
       "    </tr>\n",
       "    <tr>\n",
       "      <th>top</th>\n",
       "      <td>Sophia Koh</td>\n",
       "      <td>05-10-1999</td>\n",
       "      <td>Male</td>\n",
       "      <td>Fatigue, Weakness</td>\n",
       "      <td>Food Poisoning</td>\n",
       "      <td>Gastroenteritis</td>\n",
       "      <td>Rest, Lifestyle</td>\n",
       "    </tr>\n",
       "    <tr>\n",
       "      <th>freq</th>\n",
       "      <td>9</td>\n",
       "      <td>8</td>\n",
       "      <td>116</td>\n",
       "      <td>19</td>\n",
       "      <td>20</td>\n",
       "      <td>20</td>\n",
       "      <td>16</td>\n",
       "    </tr>\n",
       "  </tbody>\n",
       "</table>\n",
       "</div>"
      ],
      "text/plain": [
       "              Name DateOfBirth Gender           Symptoms          Causes  \\\n",
       "count          241         241    242                247             245   \n",
       "unique          87          98      4                 53              62   \n",
       "top     Sophia Koh  05-10-1999   Male  Fatigue, Weakness  Food Poisoning   \n",
       "freq             9           8    116                 19              20   \n",
       "\n",
       "                Disease         Medicine  \n",
       "count               249              242  \n",
       "unique               68               65  \n",
       "top     Gastroenteritis  Rest, Lifestyle  \n",
       "freq                 20               16  "
      ]
     },
     "execution_count": 764,
     "metadata": {},
     "output_type": "execute_result"
    }
   ],
   "source": [
    "# dataset overview\n",
    "data.describe()"
   ]
  },
  {
   "cell_type": "code",
   "execution_count": 766,
   "id": "9a9a374e",
   "metadata": {},
   "outputs": [
    {
     "name": "stdout",
     "output_type": "stream",
     "text": [
      "<class 'pandas.core.frame.DataFrame'>\n",
      "RangeIndex: 287 entries, 0 to 286\n",
      "Data columns (total 7 columns):\n",
      " #   Column       Non-Null Count  Dtype \n",
      "---  ------       --------------  ----- \n",
      " 0   Name         241 non-null    object\n",
      " 1   DateOfBirth  241 non-null    object\n",
      " 2   Gender       242 non-null    object\n",
      " 3   Symptoms     247 non-null    object\n",
      " 4   Causes       245 non-null    object\n",
      " 5   Disease      249 non-null    object\n",
      " 6   Medicine     242 non-null    object\n",
      "dtypes: object(7)\n",
      "memory usage: 15.8+ KB\n",
      "None\n"
     ]
    }
   ],
   "source": [
    "print(data.info())"
   ]
  },
  {
   "cell_type": "code",
   "execution_count": 768,
   "id": "f93e25eb-6725-4639-9fd4-dc8b3336621c",
   "metadata": {},
   "outputs": [
    {
     "name": "stdout",
     "output_type": "stream",
     "text": [
      "Initial Data Overview:\n",
      "          Name DateOfBirth  Gender             Symptoms               Causes  \\\n",
      "0     John Doe  15-05-1980    Male         Fever, Cough      Viral Infection   \n",
      "1   Jane Smith  10-08-1992  Female    Headache, Fatigue               Stress   \n",
      "2  Michael Lee  20-02-1975    Male  Shortness of breath            Pollution   \n",
      "3   Emily Chen  03-11-1988  Female     Nausea, Vomiting       Food Poisoning   \n",
      "4    Alex Wong  12-06-2001    Male          Sore Throat  Bacterial Infection   \n",
      "\n",
      "           Disease           Medicine  \n",
      "0      Common Cold    Ibuprofen, Rest  \n",
      "1         Migraine        Sumatriptan  \n",
      "2           Asthma  Albuterol Inhaler  \n",
      "3  Gastroenteritis   Oral Rehydration  \n",
      "4     Strep Throat         Penicillin  \n"
     ]
    }
   ],
   "source": [
    "# Display the first few rows of the dataset\n",
    "print(\"Initial Data Overview:\")\n",
    "print(data.head())"
   ]
  },
  {
   "cell_type": "code",
   "execution_count": 770,
   "id": "ca684dc2-0e2c-46de-b625-e477abe68613",
   "metadata": {},
   "outputs": [],
   "source": [
    "# Drop non-numeric columns\n",
    "data = data.drop(columns=['Name', 'DateOfBirth'])"
   ]
  },
  {
   "cell_type": "code",
   "execution_count": 772,
   "id": "579442f3-2e5e-43e5-9a81-19d3a65bac3b",
   "metadata": {},
   "outputs": [],
   "source": [
    "# Handle categorical columns\n",
    "label_encoders = {}\n",
    "for column in ['Gender', 'Symptoms', 'Causes', 'Disease', 'Medicine']:\n",
    "    le = LabelEncoder()\n",
    "    data[column] = le.fit_transform(data[column].astype(str))\n",
    "    label_encoders[column] = le"
   ]
  },
  {
   "cell_type": "code",
   "execution_count": 774,
   "id": "40cbc778-13c2-487e-97e5-ee673a43d3cb",
   "metadata": {},
   "outputs": [
    {
     "name": "stdout",
     "output_type": "stream",
     "text": [
      "\n",
      "Missing Values Check:\n",
      "Gender      0\n",
      "Symptoms    0\n",
      "Causes      0\n",
      "Disease     0\n",
      "Medicine    0\n",
      "dtype: int64\n"
     ]
    }
   ],
   "source": [
    "# Check for missing values\n",
    "print(\"\\nMissing Values Check:\")\n",
    "print(data.isnull().sum())"
   ]
  },
  {
   "cell_type": "code",
   "execution_count": 776,
   "id": "d9b70c08-d6b3-4b84-8db6-d24412f9ce60",
   "metadata": {},
   "outputs": [],
   "source": [
    "# Handle missing values using SimpleImputer\n",
    "imputer = SimpleImputer(strategy='most_frequent')  \n",
    "data = pd.DataFrame(imputer.fit_transform(data), columns=data.columns)"
   ]
  },
  {
   "cell_type": "code",
   "execution_count": 778,
   "id": "627ab107-0e1e-4dd5-8c8d-b2f6595677e6",
   "metadata": {},
   "outputs": [
    {
     "name": "stdout",
     "output_type": "stream",
     "text": [
      "\n",
      "Missing Values Check After Imputation:\n",
      "Gender      0\n",
      "Symptoms    0\n",
      "Causes      0\n",
      "Disease     0\n",
      "Medicine    0\n",
      "dtype: int64\n"
     ]
    }
   ],
   "source": [
    "# Check if there are any missing values remaining\n",
    "print(\"\\nMissing Values Check After Imputation:\")\n",
    "print(data.isnull().sum())"
   ]
  },
  {
   "cell_type": "markdown",
   "id": "dbf6a7f3-fe5a-4c60-82fa-10f6e3b8956a",
   "metadata": {},
   "source": [
    "EDA"
   ]
  },
  {
   "cell_type": "code",
   "execution_count": 781,
   "id": "15cee27e-a4ca-4024-9090-b4d12710739c",
   "metadata": {},
   "outputs": [
    {
     "data": {
      "image/png": "[encoded data removed]",
      "text/plain": [
       "<Figure size 1000x600 with 1 Axes>"
      ]
     },
     "metadata": {},
     "output_type": "display_data"
    }
   ],
   "source": [
    "# Distribuution of symptoms\n",
    "medical_data_symptoms = pd.DataFrame({\n",
    "    'Symptoms': ['Fever', 'Headache', 'Shortness of breath', 'Nausea', 'Sore Throat', \n",
    "                 'Fever', 'Headache', 'Fever', 'Nausea', 'Sore Throat']\n",
    "})\n",
    "\n",
    "# individual symptoms to broader categories\n",
    "symptom_mapping = {\n",
    "    'Fever': 'Fever',\n",
    "    'Headache': 'Headache',\n",
    "    'Shortness of breath': 'Respiratory Issues',\n",
    "    'Nausea': 'Digestive Issues',\n",
    "    'Sore Throat': 'Throat Issues'\n",
    "}\n",
    "\n",
    "# individual symptoms to broader categories\n",
    "medical_data_symptoms['Symptoms'] = medical_data_symptoms['Symptoms'].map(symptom_mapping)\n",
    "\n",
    "# Create the count plot\n",
    "plt.figure(figsize=(10, 6))\n",
    "sns.countplot(data=medical_data_symptoms, y='Symptoms', palette='viridis')\n",
    "plt.title('Distribution of Symptoms')\n",
    "plt.xlabel('Count')\n",
    "plt.ylabel('Symptoms')\n",
    "plt.show()"
   ]
  },
  {
   "cell_type": "code",
   "execution_count": 783,
   "id": "ef551e0d-8279-42ec-9b32-c65f612f8439",
   "metadata": {},
   "outputs": [
    {
     "data": {
      "image/png": "[encoded data removed]",
      "text/plain": [
       "<Figure size 1000x600 with 1 Axes>"
      ]
     },
     "metadata": {},
     "output_type": "display_data"
    }
   ],
   "source": [
    "# causes distribution\n",
    "medical_data_causes = pd.DataFrame({\n",
    "    'Causes': ['Viral Infection', 'Stress', 'Pollution', 'Food Poisoning', 'Bacterial Infection',\n",
    "               'Viral Infection', 'Stress', 'Food Poisoning', 'Viral Infection', 'Bacterial Infection']\n",
    "})\n",
    "\n",
    "#causes to broader categories\n",
    "cause_mapping = {\n",
    "    'Viral Infection': 'Viral Infections',\n",
    "    'Stress': 'Stress',\n",
    "    'Pollution': 'Environmental Issues',\n",
    "    'Food Poisoning': 'Digestive Issues',\n",
    "    'Bacterial Infection': 'Bacterial Infections'\n",
    "}\n",
    "\n",
    "# Map causes \n",
    "medical_data_causes['Causes'] = medical_data_causes['Causes'].map(cause_mapping)\n",
    "\n",
    "# Create the count plot\n",
    "plt.figure(figsize=(10, 6))\n",
    "sns.countplot(data=medical_data_causes, y='Causes', palette='viridis')\n",
    "plt.title('Distribution of Causes')\n",
    "plt.xlabel('Count')\n",
    "plt.ylabel('Causes')\n",
    "plt.show()"
   ]
  },
  {
   "cell_type": "code",
   "execution_count": 785,
   "id": "4670d4ce-a571-4b87-ad71-d0ecdb498765",
   "metadata": {},
   "outputs": [
    {
     "data": {
      "image/png": "[encoded data removed]",
      "text/plain": [
       "<Figure size 1000x600 with 1 Axes>"
      ]
     },
     "metadata": {},
     "output_type": "display_data"
    }
   ],
   "source": [
    "# Disease\n",
    "medical_data_diseases = pd.DataFrame({\n",
    "    'Disease': ['Common Cold', 'Migraine', 'Asthma', 'Gastroenteritis', 'Strep Throat',\n",
    "                'Common Cold', 'Migraine', 'Asthma', 'Common Cold', 'Strep Throat']\n",
    "})\n",
    "\n",
    "# diseases to broader categories\n",
    "disease_mapping = {\n",
    "    'Common Cold': 'Respiratory Infections',\n",
    "    'Migraine': 'Headaches',\n",
    "    'Asthma': 'Respiratory Conditions',\n",
    "    'Gastroenteritis': 'Digestive Issues',\n",
    "    'Strep Throat': 'Throat Infections'\n",
    "}\n",
    "\n",
    "# Map of diseases \n",
    "medical_data_diseases['Disease'] = medical_data_diseases['Disease'].map(disease_mapping)\n",
    "\n",
    "# Create the count plot\n",
    "plt.figure(figsize=(10, 6))\n",
    "sns.countplot(data=medical_data_diseases, y='Disease', palette='viridis')\n",
    "plt.title('Distribution of Diseases')\n",
    "plt.xlabel('Count')\n",
    "plt.ylabel('Disease')\n",
    "plt.show()"
   ]
  },
  {
   "cell_type": "code",
   "execution_count": null,
   "id": "32ce4d55-8612-4673-aefe-b99f3886c0dc",
   "metadata": {},
   "outputs": [],
   "source": []
  },
  {
   "cell_type": "code",
   "execution_count": 788,
   "id": "ff568c9e-8bec-4384-b937-2be35fd17c1c",
   "metadata": {},
   "outputs": [],
   "source": [
    "# Separate features and target variable\n",
    "X = data.drop(columns='Medicine')\n",
    "y = data['Medicine']"
   ]
  },
  {
   "cell_type": "code",
   "execution_count": 790,
   "id": "0433cc66-473b-4268-b533-aebdd83343b4",
   "metadata": {},
   "outputs": [],
   "source": [
    "# Split data into training and test sets\n",
    "X_train, X_test, y_train, y_test = train_test_split(X, y, test_size=0.2, random_state=42)"
   ]
  },
  {
   "cell_type": "code",
   "execution_count": 792,
   "id": "c710e1ff-adc2-41c4-8ee1-810c0704f171",
   "metadata": {},
   "outputs": [
    {
     "data": {
      "text/html": [
       "<style>#sk-container-id-15 {color: black;background-color: white;}#sk-container-id-15 pre{padding: 0;}#sk-container-id-15 div.sk-toggleable {background-color: white;}#sk-container-id-15 label.sk-toggleable__label {cursor: pointer;display: block;width: 100%;margin-bottom: 0;padding: 0.3em;box-sizing: border-box;text-align: center;}#sk-container-id-15 label.sk-toggleable__label-arrow:before {content: \"▸\";float: left;margin-right: 0.25em;color: #696969;}#sk-container-id-15 label.sk-toggleable__label-arrow:hover:before {color: black;}#sk-container-id-15 div.sk-estimator:hover label.sk-toggleable__label-arrow:before {color: black;}#sk-container-id-15 div.sk-toggleable__content {max-height: 0;max-width: 0;overflow: hidden;text-align: left;background-color: #f0f8ff;}#sk-container-id-15 div.sk-toggleable__content pre {margin: 0.2em;color: black;border-radius: 0.25em;background-color: #f0f8ff;}#sk-container-id-15 input.sk-toggleable__control:checked~div.sk-toggleable__content {max-height: 200px;max-width: 100%;overflow: auto;}#sk-container-id-15 input.sk-toggleable__control:checked~label.sk-toggleable__label-arrow:before {content: \"▾\";}#sk-container-id-15 div.sk-estimator input.sk-toggleable__control:checked~label.sk-toggleable__label {background-color: #d4ebff;}#sk-container-id-15 div.sk-label input.sk-toggleable__control:checked~label.sk-toggleable__label {background-color: #d4ebff;}#sk-container-id-15 input.sk-hidden--visually {border: 0;clip: rect(1px 1px 1px 1px);clip: rect(1px, 1px, 1px, 1px);height: 1px;margin: -1px;overflow: hidden;padding: 0;position: absolute;width: 1px;}#sk-container-id-15 div.sk-estimator {font-family: monospace;background-color: #f0f8ff;border: 1px dotted black;border-radius: 0.25em;box-sizing: border-box;margin-bottom: 0.5em;}#sk-container-id-15 div.sk-estimator:hover {background-color: #d4ebff;}#sk-container-id-15 div.sk-parallel-item::after {content: \"\";width: 100%;border-bottom: 1px solid gray;flex-grow: 1;}#sk-container-id-15 div.sk-label:hover label.sk-toggleable__label {background-color: #d4ebff;}#sk-container-id-15 div.sk-serial::before {content: \"\";position: absolute;border-left: 1px solid gray;box-sizing: border-box;top: 0;bottom: 0;left: 50%;z-index: 0;}#sk-container-id-15 div.sk-serial {display: flex;flex-direction: column;align-items: center;background-color: white;padding-right: 0.2em;padding-left: 0.2em;position: relative;}#sk-container-id-15 div.sk-item {position: relative;z-index: 1;}#sk-container-id-15 div.sk-parallel {display: flex;align-items: stretch;justify-content: center;background-color: white;position: relative;}#sk-container-id-15 div.sk-item::before, #sk-container-id-15 div.sk-parallel-item::before {content: \"\";position: absolute;border-left: 1px solid gray;box-sizing: border-box;top: 0;bottom: 0;left: 50%;z-index: -1;}#sk-container-id-15 div.sk-parallel-item {display: flex;flex-direction: column;z-index: 1;position: relative;background-color: white;}#sk-container-id-15 div.sk-parallel-item:first-child::after {align-self: flex-end;width: 50%;}#sk-container-id-15 div.sk-parallel-item:last-child::after {align-self: flex-start;width: 50%;}#sk-container-id-15 div.sk-parallel-item:only-child::after {width: 0;}#sk-container-id-15 div.sk-dashed-wrapped {border: 1px dashed gray;margin: 0 0.4em 0.5em 0.4em;box-sizing: border-box;padding-bottom: 0.4em;background-color: white;}#sk-container-id-15 div.sk-label label {font-family: monospace;font-weight: bold;display: inline-block;line-height: 1.2em;}#sk-container-id-15 div.sk-label-container {text-align: center;}#sk-container-id-15 div.sk-container {/* jupyter's `normalize.less` sets `[hidden] { display: none; }` but bootstrap.min.css set `[hidden] { display: none !important; }` so we also need the `!important` here to be able to override the default hidden behavior on the sphinx rendered scikit-learn.org. See: https://github.com/scikit-learn/scikit-learn/issues/21755 */display: inline-block !important;position: relative;}#sk-container-id-15 div.sk-text-repr-fallback {display: none;}</style><div id=\"sk-container-id-15\" class=\"sk-top-container\"><div class=\"sk-text-repr-fallback\"><pre>DecisionTreeClassifier(random_state=42)</pre><b>In a Jupyter environment, please rerun this cell to show the HTML representation or trust the notebook. <br />On GitHub, the HTML representation is unable to render, please try loading this page with nbviewer.org.</b></div><div class=\"sk-container\" hidden><div class=\"sk-item\"><div class=\"sk-estimator sk-toggleable\"><input class=\"sk-toggleable__control sk-hidden--visually\" id=\"sk-estimator-id-15\" type=\"checkbox\" checked><label for=\"sk-estimator-id-15\" class=\"sk-toggleable__label sk-toggleable__label-arrow\">DecisionTreeClassifier</label><div class=\"sk-toggleable__content\"><pre>DecisionTreeClassifier(random_state=42)</pre></div></div></div></div></div>"
      ],
      "text/plain": [
       "DecisionTreeClassifier(random_state=42)"
      ]
     },
     "execution_count": 792,
     "metadata": {},
     "output_type": "execute_result"
    }
   ],
   "source": [
    "# Initialize and train the Decision Tree Classifier\n",
    "dt_classifier = DecisionTreeClassifier(random_state=42)\n",
    "dt_classifier.fit(X_train, y_train)"
   ]
  },
  {
   "cell_type": "code",
   "execution_count": 794,
   "id": "63e4ca85-4dc3-4b7c-a6a1-182d576286bb",
   "metadata": {},
   "outputs": [],
   "source": [
    "# Predict and evaluate\n",
    "y_pred_dt = dt_classifier.predict(X_test)\n",
    "accuracy_dt = accuracy_score(y_test, y_pred_dt)"
   ]
  },
  {
   "cell_type": "code",
   "execution_count": 796,
   "id": "c8686d5b-6b24-4251-97a6-efc4ae93bf3f",
   "metadata": {},
   "outputs": [
    {
     "name": "stdout",
     "output_type": "stream",
     "text": [
      "\n",
      "Decision Tree Classification Report:\n",
      "              precision    recall  f1-score   support\n",
      "\n",
      "           2       0.00      1.00      0.00         0\n",
      "           5       0.00      1.00      0.00         0\n",
      "           9       1.00      0.00      0.00         1\n",
      "          10       1.00      0.00      0.00         1\n",
      "          13       1.00      0.00      0.00         1\n",
      "          15       0.00      1.00      0.00         0\n",
      "          19       1.00      1.00      1.00         1\n",
      "          20       1.00      0.50      0.67         2\n",
      "          22       1.00      1.00      1.00         1\n",
      "          23       1.00      1.00      1.00         3\n",
      "          27       1.00      1.00      1.00         2\n",
      "          28       1.00      1.00      1.00         1\n",
      "          29       0.50      1.00      0.67         1\n",
      "          31       0.60      1.00      0.75         3\n",
      "          32       1.00      1.00      1.00         4\n",
      "          35       0.00      1.00      0.00         0\n",
      "          38       1.00      1.00      1.00         2\n",
      "          40       1.00      0.00      0.00         1\n",
      "          41       1.00      1.00      1.00         3\n",
      "          44       1.00      0.67      0.80         3\n",
      "          45       1.00      1.00      1.00         2\n",
      "          46       0.50      0.50      0.50         2\n",
      "          47       1.00      1.00      1.00         2\n",
      "          50       1.00      1.00      1.00         2\n",
      "          51       0.83      1.00      0.91         5\n",
      "          53       1.00      1.00      1.00         1\n",
      "          54       1.00      0.00      0.00         1\n",
      "          57       1.00      0.67      0.80         3\n",
      "          62       1.00      1.00      1.00        10\n",
      "\n",
      "    accuracy                           0.84        58\n",
      "   macro avg       0.81      0.77      0.62        58\n",
      "weighted avg       0.94      0.84      0.84        58\n",
      "\n"
     ]
    }
   ],
   "source": [
    "# Print classification report with zero_division handling\n",
    "print(\"\\nDecision Tree Classification Report:\")\n",
    "print(classification_report(y_test, y_pred_dt, zero_division=1))"
   ]
  },
  {
   "cell_type": "code",
   "execution_count": 798,
   "id": "0c3488aa-8431-41d2-9fae-bafb209af508",
   "metadata": {},
   "outputs": [
    {
     "data": {
      "text/html": [
       "<style>#sk-container-id-16 {color: black;background-color: white;}#sk-container-id-16 pre{padding: 0;}#sk-container-id-16 div.sk-toggleable {background-color: white;}#sk-container-id-16 label.sk-toggleable__label {cursor: pointer;display: block;width: 100%;margin-bottom: 0;padding: 0.3em;box-sizing: border-box;text-align: center;}#sk-container-id-16 label.sk-toggleable__label-arrow:before {content: \"▸\";float: left;margin-right: 0.25em;color: #696969;}#sk-container-id-16 label.sk-toggleable__label-arrow:hover:before {color: black;}#sk-container-id-16 div.sk-estimator:hover label.sk-toggleable__label-arrow:before {color: black;}#sk-container-id-16 div.sk-toggleable__content {max-height: 0;max-width: 0;overflow: hidden;text-align: left;background-color: #f0f8ff;}#sk-container-id-16 div.sk-toggleable__content pre {margin: 0.2em;color: black;border-radius: 0.25em;background-color: #f0f8ff;}#sk-container-id-16 input.sk-toggleable__control:checked~div.sk-toggleable__content {max-height: 200px;max-width: 100%;overflow: auto;}#sk-container-id-16 input.sk-toggleable__control:checked~label.sk-toggleable__label-arrow:before {content: \"▾\";}#sk-container-id-16 div.sk-estimator input.sk-toggleable__control:checked~label.sk-toggleable__label {background-color: #d4ebff;}#sk-container-id-16 div.sk-label input.sk-toggleable__control:checked~label.sk-toggleable__label {background-color: #d4ebff;}#sk-container-id-16 input.sk-hidden--visually {border: 0;clip: rect(1px 1px 1px 1px);clip: rect(1px, 1px, 1px, 1px);height: 1px;margin: -1px;overflow: hidden;padding: 0;position: absolute;width: 1px;}#sk-container-id-16 div.sk-estimator {font-family: monospace;background-color: #f0f8ff;border: 1px dotted black;border-radius: 0.25em;box-sizing: border-box;margin-bottom: 0.5em;}#sk-container-id-16 div.sk-estimator:hover {background-color: #d4ebff;}#sk-container-id-16 div.sk-parallel-item::after {content: \"\";width: 100%;border-bottom: 1px solid gray;flex-grow: 1;}#sk-container-id-16 div.sk-label:hover label.sk-toggleable__label {background-color: #d4ebff;}#sk-container-id-16 div.sk-serial::before {content: \"\";position: absolute;border-left: 1px solid gray;box-sizing: border-box;top: 0;bottom: 0;left: 50%;z-index: 0;}#sk-container-id-16 div.sk-serial {display: flex;flex-direction: column;align-items: center;background-color: white;padding-right: 0.2em;padding-left: 0.2em;position: relative;}#sk-container-id-16 div.sk-item {position: relative;z-index: 1;}#sk-container-id-16 div.sk-parallel {display: flex;align-items: stretch;justify-content: center;background-color: white;position: relative;}#sk-container-id-16 div.sk-item::before, #sk-container-id-16 div.sk-parallel-item::before {content: \"\";position: absolute;border-left: 1px solid gray;box-sizing: border-box;top: 0;bottom: 0;left: 50%;z-index: -1;}#sk-container-id-16 div.sk-parallel-item {display: flex;flex-direction: column;z-index: 1;position: relative;background-color: white;}#sk-container-id-16 div.sk-parallel-item:first-child::after {align-self: flex-end;width: 50%;}#sk-container-id-16 div.sk-parallel-item:last-child::after {align-self: flex-start;width: 50%;}#sk-container-id-16 div.sk-parallel-item:only-child::after {width: 0;}#sk-container-id-16 div.sk-dashed-wrapped {border: 1px dashed gray;margin: 0 0.4em 0.5em 0.4em;box-sizing: border-box;padding-bottom: 0.4em;background-color: white;}#sk-container-id-16 div.sk-label label {font-family: monospace;font-weight: bold;display: inline-block;line-height: 1.2em;}#sk-container-id-16 div.sk-label-container {text-align: center;}#sk-container-id-16 div.sk-container {/* jupyter's `normalize.less` sets `[hidden] { display: none; }` but bootstrap.min.css set `[hidden] { display: none !important; }` so we also need the `!important` here to be able to override the default hidden behavior on the sphinx rendered scikit-learn.org. See: https://github.com/scikit-learn/scikit-learn/issues/21755 */display: inline-block !important;position: relative;}#sk-container-id-16 div.sk-text-repr-fallback {display: none;}</style><div id=\"sk-container-id-16\" class=\"sk-top-container\"><div class=\"sk-text-repr-fallback\"><pre>RandomForestClassifier(random_state=42)</pre><b>In a Jupyter environment, please rerun this cell to show the HTML representation or trust the notebook. <br />On GitHub, the HTML representation is unable to render, please try loading this page with nbviewer.org.</b></div><div class=\"sk-container\" hidden><div class=\"sk-item\"><div class=\"sk-estimator sk-toggleable\"><input class=\"sk-toggleable__control sk-hidden--visually\" id=\"sk-estimator-id-16\" type=\"checkbox\" checked><label for=\"sk-estimator-id-16\" class=\"sk-toggleable__label sk-toggleable__label-arrow\">RandomForestClassifier</label><div class=\"sk-toggleable__content\"><pre>RandomForestClassifier(random_state=42)</pre></div></div></div></div></div>"
      ],
      "text/plain": [
       "RandomForestClassifier(random_state=42)"
      ]
     },
     "execution_count": 798,
     "metadata": {},
     "output_type": "execute_result"
    }
   ],
   "source": [
    "# Initialize and train the Random Forest Classifier\n",
    "rf_classifier = RandomForestClassifier(random_state=42)\n",
    "rf_classifier.fit(X_train, y_train)\n"
   ]
  },
  {
   "cell_type": "code",
   "execution_count": 800,
   "id": "5cd46fc0-fa7b-4100-99d6-6a8ed1434eeb",
   "metadata": {},
   "outputs": [],
   "source": [
    "# Predict and evaluate\n",
    "y_pred_rf = rf_classifier.predict(X_test)\n",
    "accuracy_rf = accuracy_score(y_test, y_pred_rf)"
   ]
  },
  {
   "cell_type": "code",
   "execution_count": 802,
   "id": "7d3a601b-f4e7-409f-931e-2e65f377143b",
   "metadata": {},
   "outputs": [
    {
     "name": "stdout",
     "output_type": "stream",
     "text": [
      "\n",
      "Random Forest Accuracy: 0.8793103448275862\n",
      "\n",
      "Random Forest Classification Report:\n",
      "              precision    recall  f1-score   support\n",
      "\n",
      "           5       0.00      1.00      0.00         0\n",
      "           9       1.00      0.00      0.00         1\n",
      "          10       1.00      0.00      0.00         1\n",
      "          13       1.00      0.00      0.00         1\n",
      "          15       0.00      1.00      0.00         0\n",
      "          19       1.00      1.00      1.00         1\n",
      "          20       1.00      1.00      1.00         2\n",
      "          21       0.00      1.00      0.00         0\n",
      "          22       1.00      1.00      1.00         1\n",
      "          23       1.00      1.00      1.00         3\n",
      "          27       1.00      1.00      1.00         2\n",
      "          28       1.00      1.00      1.00         1\n",
      "          29       0.50      1.00      0.67         1\n",
      "          31       0.75      1.00      0.86         3\n",
      "          32       1.00      1.00      1.00         4\n",
      "          35       0.00      1.00      0.00         0\n",
      "          38       1.00      1.00      1.00         2\n",
      "          40       1.00      1.00      1.00         1\n",
      "          41       1.00      1.00      1.00         3\n",
      "          44       1.00      0.67      0.80         3\n",
      "          45       1.00      1.00      1.00         2\n",
      "          46       1.00      0.50      0.67         2\n",
      "          47       1.00      1.00      1.00         2\n",
      "          50       1.00      1.00      1.00         2\n",
      "          51       0.83      1.00      0.91         5\n",
      "          53       1.00      1.00      1.00         1\n",
      "          54       1.00      0.00      0.00         1\n",
      "          57       1.00      0.67      0.80         3\n",
      "          62       1.00      1.00      1.00        10\n",
      "\n",
      "    accuracy                           0.88        58\n",
      "   macro avg       0.83      0.82      0.68        58\n",
      "weighted avg       0.96      0.88      0.88        58\n",
      "\n"
     ]
    }
   ],
   "source": [
    "print(f\"\\nRandom Forest Accuracy: {accuracy_rf}\")\n",
    "print(\"\\nRandom Forest Classification Report:\")\n",
    "print(classification_report(y_test, y_pred_rf, zero_division=1))\n"
   ]
  },
  {
   "cell_type": "code",
   "execution_count": 804,
   "id": "1a1d50e6-7da4-45b1-af6e-f3c10c9c80fb",
   "metadata": {},
   "outputs": [
    {
     "name": "stderr",
     "output_type": "stream",
     "text": [
      "/opt/anaconda3/lib/python3.11/site-packages/sklearn/linear_model/_logistic.py:458: ConvergenceWarning: lbfgs failed to converge (status=1):\n",
      "STOP: TOTAL NO. of ITERATIONS REACHED LIMIT.\n",
      "\n",
      "Increase the number of iterations (max_iter) or scale the data as shown in:\n",
      "    https://scikit-learn.org/stable/modules/preprocessing.html\n",
      "Please also refer to the documentation for alternative solver options:\n",
      "    https://scikit-learn.org/stable/modules/linear_model.html#logistic-regression\n",
      "  n_iter_i = _check_optimize_result(\n"
     ]
    },
    {
     "data": {
      "text/html": [
       "<style>#sk-container-id-17 {color: black;background-color: white;}#sk-container-id-17 pre{padding: 0;}#sk-container-id-17 div.sk-toggleable {background-color: white;}#sk-container-id-17 label.sk-toggleable__label {cursor: pointer;display: block;width: 100%;margin-bottom: 0;padding: 0.3em;box-sizing: border-box;text-align: center;}#sk-container-id-17 label.sk-toggleable__label-arrow:before {content: \"▸\";float: left;margin-right: 0.25em;color: #696969;}#sk-container-id-17 label.sk-toggleable__label-arrow:hover:before {color: black;}#sk-container-id-17 div.sk-estimator:hover label.sk-toggleable__label-arrow:before {color: black;}#sk-container-id-17 div.sk-toggleable__content {max-height: 0;max-width: 0;overflow: hidden;text-align: left;background-color: #f0f8ff;}#sk-container-id-17 div.sk-toggleable__content pre {margin: 0.2em;color: black;border-radius: 0.25em;background-color: #f0f8ff;}#sk-container-id-17 input.sk-toggleable__control:checked~div.sk-toggleable__content {max-height: 200px;max-width: 100%;overflow: auto;}#sk-container-id-17 input.sk-toggleable__control:checked~label.sk-toggleable__label-arrow:before {content: \"▾\";}#sk-container-id-17 div.sk-estimator input.sk-toggleable__control:checked~label.sk-toggleable__label {background-color: #d4ebff;}#sk-container-id-17 div.sk-label input.sk-toggleable__control:checked~label.sk-toggleable__label {background-color: #d4ebff;}#sk-container-id-17 input.sk-hidden--visually {border: 0;clip: rect(1px 1px 1px 1px);clip: rect(1px, 1px, 1px, 1px);height: 1px;margin: -1px;overflow: hidden;padding: 0;position: absolute;width: 1px;}#sk-container-id-17 div.sk-estimator {font-family: monospace;background-color: #f0f8ff;border: 1px dotted black;border-radius: 0.25em;box-sizing: border-box;margin-bottom: 0.5em;}#sk-container-id-17 div.sk-estimator:hover {background-color: #d4ebff;}#sk-container-id-17 div.sk-parallel-item::after {content: \"\";width: 100%;border-bottom: 1px solid gray;flex-grow: 1;}#sk-container-id-17 div.sk-label:hover label.sk-toggleable__label {background-color: #d4ebff;}#sk-container-id-17 div.sk-serial::before {content: \"\";position: absolute;border-left: 1px solid gray;box-sizing: border-box;top: 0;bottom: 0;left: 50%;z-index: 0;}#sk-container-id-17 div.sk-serial {display: flex;flex-direction: column;align-items: center;background-color: white;padding-right: 0.2em;padding-left: 0.2em;position: relative;}#sk-container-id-17 div.sk-item {position: relative;z-index: 1;}#sk-container-id-17 div.sk-parallel {display: flex;align-items: stretch;justify-content: center;background-color: white;position: relative;}#sk-container-id-17 div.sk-item::before, #sk-container-id-17 div.sk-parallel-item::before {content: \"\";position: absolute;border-left: 1px solid gray;box-sizing: border-box;top: 0;bottom: 0;left: 50%;z-index: -1;}#sk-container-id-17 div.sk-parallel-item {display: flex;flex-direction: column;z-index: 1;position: relative;background-color: white;}#sk-container-id-17 div.sk-parallel-item:first-child::after {align-self: flex-end;width: 50%;}#sk-container-id-17 div.sk-parallel-item:last-child::after {align-self: flex-start;width: 50%;}#sk-container-id-17 div.sk-parallel-item:only-child::after {width: 0;}#sk-container-id-17 div.sk-dashed-wrapped {border: 1px dashed gray;margin: 0 0.4em 0.5em 0.4em;box-sizing: border-box;padding-bottom: 0.4em;background-color: white;}#sk-container-id-17 div.sk-label label {font-family: monospace;font-weight: bold;display: inline-block;line-height: 1.2em;}#sk-container-id-17 div.sk-label-container {text-align: center;}#sk-container-id-17 div.sk-container {/* jupyter's `normalize.less` sets `[hidden] { display: none; }` but bootstrap.min.css set `[hidden] { display: none !important; }` so we also need the `!important` here to be able to override the default hidden behavior on the sphinx rendered scikit-learn.org. See: https://github.com/scikit-learn/scikit-learn/issues/21755 */display: inline-block !important;position: relative;}#sk-container-id-17 div.sk-text-repr-fallback {display: none;}</style><div id=\"sk-container-id-17\" class=\"sk-top-container\"><div class=\"sk-text-repr-fallback\"><pre>LogisticRegression(max_iter=1000, random_state=42)</pre><b>In a Jupyter environment, please rerun this cell to show the HTML representation or trust the notebook. <br />On GitHub, the HTML representation is unable to render, please try loading this page with nbviewer.org.</b></div><div class=\"sk-container\" hidden><div class=\"sk-item\"><div class=\"sk-estimator sk-toggleable\"><input class=\"sk-toggleable__control sk-hidden--visually\" id=\"sk-estimator-id-17\" type=\"checkbox\" checked><label for=\"sk-estimator-id-17\" class=\"sk-toggleable__label sk-toggleable__label-arrow\">LogisticRegression</label><div class=\"sk-toggleable__content\"><pre>LogisticRegression(max_iter=1000, random_state=42)</pre></div></div></div></div></div>"
      ],
      "text/plain": [
       "LogisticRegression(max_iter=1000, random_state=42)"
      ]
     },
     "execution_count": 804,
     "metadata": {},
     "output_type": "execute_result"
    }
   ],
   "source": [
    "# Initialize and train the Logistic Regression model\n",
    "lr_classifier = LogisticRegression(max_iter=1000, random_state=42)\n",
    "lr_classifier.fit(X_train, y_train)\n"
   ]
  },
  {
   "cell_type": "code",
   "execution_count": 806,
   "id": "6b413c54-c424-410e-9635-0013475213da",
   "metadata": {},
   "outputs": [],
   "source": [
    "# Predict and evaluate\n",
    "y_pred_lr = lr_classifier.predict(X_test)\n",
    "accuracy_lr = accuracy_score(y_test, y_pred_lr)"
   ]
  },
  {
   "cell_type": "code",
   "execution_count": 808,
   "id": "83856f16-6d83-45ee-aed5-de8a68bc4f9e",
   "metadata": {},
   "outputs": [
    {
     "name": "stdout",
     "output_type": "stream",
     "text": [
      "\n",
      "Logistic Regression Accuracy: 0.8275862068965517\n",
      "\n",
      "Logistic Regression Classification Report:\n",
      "              precision    recall  f1-score   support\n",
      "\n",
      "           9       1.00      0.00      0.00         1\n",
      "          10       1.00      0.00      0.00         1\n",
      "          13       1.00      0.00      0.00         1\n",
      "          19       1.00      1.00      1.00         1\n",
      "          20       1.00      0.50      0.67         2\n",
      "          22       1.00      1.00      1.00         1\n",
      "          23       1.00      1.00      1.00         3\n",
      "          27       1.00      1.00      1.00         2\n",
      "          28       1.00      1.00      1.00         1\n",
      "          29       0.50      1.00      0.67         1\n",
      "          31       0.75      1.00      0.86         3\n",
      "          32       1.00      1.00      1.00         4\n",
      "          35       0.00      1.00      0.00         0\n",
      "          38       0.67      1.00      0.80         2\n",
      "          40       1.00      1.00      1.00         1\n",
      "          41       0.50      1.00      0.67         3\n",
      "          44       1.00      0.67      0.80         3\n",
      "          45       1.00      0.00      0.00         2\n",
      "          46       0.50      0.50      0.50         2\n",
      "          47       1.00      1.00      1.00         2\n",
      "          50       1.00      1.00      1.00         2\n",
      "          51       0.83      1.00      0.91         5\n",
      "          53       1.00      1.00      1.00         1\n",
      "          54       1.00      0.00      0.00         1\n",
      "          57       1.00      0.67      0.80         3\n",
      "          62       1.00      1.00      1.00        10\n",
      "\n",
      "    accuracy                           0.83        58\n",
      "   macro avg       0.88      0.74      0.68        58\n",
      "weighted avg       0.91      0.83      0.80        58\n",
      "\n"
     ]
    }
   ],
   "source": [
    "print(f\"\\nLogistic Regression Accuracy: {accuracy_lr}\")\n",
    "print(\"\\nLogistic Regression Classification Report:\")\n",
    "print(classification_report(y_test, y_pred_lr, zero_division=1))"
   ]
  },
  {
   "cell_type": "markdown",
   "id": "3a75fa19-1e82-4f8a-9677-27ff9c0df5c0",
   "metadata": {},
   "source": [
    "Examine feature importances models like Random Forest"
   ]
  },
  {
   "cell_type": "code",
   "execution_count": 811,
   "id": "73f76291-b4e8-407c-af59-605d6ee258fe",
   "metadata": {},
   "outputs": [
    {
     "name": "stdout",
     "output_type": "stream",
     "text": [
      "\n",
      "Feature Importance (Random Forest):\n",
      "    Feature  Importance\n",
      "3   Disease    0.312419\n",
      "1  Symptoms    0.306058\n",
      "2    Causes    0.269709\n",
      "0    Gender    0.111815\n"
     ]
    }
   ],
   "source": [
    "importances = rf_classifier.feature_importances_\n",
    "feature_importance_df = pd.DataFrame({'Feature': X.columns, 'Importance': importances})\n",
    "feature_importance_df = feature_importance_df.sort_values(by='Importance', ascending=False)\n",
    "\n",
    "print(\"\\nFeature Importance (Random Forest):\")\n",
    "print(feature_importance_df)\n"
   ]
  },
  {
   "cell_type": "markdown",
   "id": "fc6e86ec-d6d5-4d57-bcf6-5757a00ceb37",
   "metadata": {},
   "source": [
    "Final Recommendations: Based on the comparison, choose the best model. If the Random Forest Classifier shows the best performance, it is often a good choice for complex datasets due to its robustness. Logistic Regression is a good baseline for simpler models"
   ]
  },
  {
   "cell_type": "code",
   "execution_count": null,
   "id": "c3d7234b-c29c-457d-8a53-ba0f91004489",
   "metadata": {},
   "outputs": [],
   "source": []
  },
  {
   "cell_type": "code",
   "execution_count": 815,
   "id": "2e16eb06-b41e-40e6-b60c-8d8021df8eb9",
   "metadata": {},
   "outputs": [
    {
     "name": "stderr",
     "output_type": "stream",
     "text": [
      "/opt/anaconda3/lib/python3.11/site-packages/seaborn/_oldcore.py:1765: FutureWarning: unique with argument that is not not a Series, Index, ExtensionArray, or np.ndarray is deprecated and will raise in a future version.\n",
      "  order = pd.unique(vector)\n"
     ]
    },
    {
     "data": {
      "image/png": "[encoded data removed]",
      "text/plain": [
       "<Figure size 1000x600 with 1 Axes>"
      ]
     },
     "metadata": {},
     "output_type": "display_data"
    }
   ],
   "source": [
    "# Plotting model performance\n",
    "models = ['Decision Tree', 'Random Forest', 'Logistic Regression']\n",
    "accuracies = [accuracy_dt, accuracy_rf, accuracy_logreg]\n",
    "plt.figure(figsize=(10, 6))\n",
    "sns.barplot(x=models, y=accuracies, palette='viridis')\n",
    "plt.title('Model Accuracy Comparison')\n",
    "plt.xlabel('Model')\n",
    "plt.ylabel('Accuracy')\n",
    "plt.ylim(0, 1)\n",
    "plt.show()"
   ]
  },
  {
   "cell_type": "code",
   "execution_count": null,
   "id": "25d96c05-e0f8-47c9-86f3-97d0225d0fb2",
   "metadata": {},
   "outputs": [],
   "source": []
  },
  {
   "cell_type": "code",
   "execution_count": 818,
   "id": "a0573b16-4f1c-4ed5-8ad0-dd9428cdabd8",
   "metadata": {},
   "outputs": [
    {
     "name": "stderr",
     "output_type": "stream",
     "text": [
      "/opt/anaconda3/lib/python3.11/site-packages/sklearn/model_selection/_split.py:700: UserWarning: The least populated class in y has only 1 members, which is less than n_splits=5.\n",
      "  warnings.warn(\n"
     ]
    },
    {
     "name": "stdout",
     "output_type": "stream",
     "text": [
      "Random Forest Cross-Validation Scores: [0.82758621 0.86206897 0.80701754 0.87719298 0.85964912]\n",
      "Mean Cross-Validation Score: 0.8467029643073201\n"
     ]
    }
   ],
   "source": [
    "#  Random Forest\n",
    "rf_cv_scores = cross_val_score(rf_classifier, X, y, cv=5)\n",
    "print(f\"Random Forest Cross-Validation Scores: {rf_cv_scores}\")\n",
    "print(f\"Mean Cross-Validation Score: {rf_cv_scores.mean()}\")\n"
   ]
  },
  {
   "cell_type": "markdown",
   "id": "24ac53e5-d57f-4b21-a56f-7dba2eb8fdc0",
   "metadata": {},
   "source": [
    "Model Tuning and Optimization\n",
    "Hyperparameter Tuning\n",
    "Optimize your model’s performance by tuning hyperparameters.\n",
    "Use techniques like Grid Search or Random Search to find the best parameters."
   ]
  },
  {
   "cell_type": "code",
   "execution_count": 821,
   "id": "de7a1bec-bd34-4653-99ea-e15e881ef4e0",
   "metadata": {},
   "outputs": [
    {
     "name": "stderr",
     "output_type": "stream",
     "text": [
      "/opt/anaconda3/lib/python3.11/site-packages/sklearn/model_selection/_split.py:700: UserWarning: The least populated class in y has only 1 members, which is less than n_splits=5.\n",
      "  warnings.warn(\n"
     ]
    },
    {
     "name": "stdout",
     "output_type": "stream",
     "text": [
      "Best Parameters: {'max_depth': None, 'min_samples_split': 2, 'n_estimators': 100}\n"
     ]
    }
   ],
   "source": [
    "#Hyperparameter Tuning\n",
    "param_grid = {\n",
    "    'n_estimators': [50, 100, 200],\n",
    "    'max_depth': [None, 10, 20, 30],\n",
    "    'min_samples_split': [2, 5, 10]\n",
    "}\n",
    "grid_search = GridSearchCV(estimator=rf_classifier, param_grid=param_grid, cv=5)\n",
    "grid_search.fit(X_train, y_train)\n",
    "print(f\"Best Parameters: {grid_search.best_params_}\")\n"
   ]
  },
  {
   "cell_type": "markdown",
   "id": "d5176bf2-c1ad-460e-9c30-89ac165e8d80",
   "metadata": {},
   "source": [
    "Evaluate feature importance and consider adding or removing features to improve model performance.\n",
    "Explore techniques like feature scaling, encoding categorical variables, and generating new features."
   ]
  },
  {
   "cell_type": "code",
   "execution_count": 823,
   "id": "25021e5d-023a-48f7-a2cc-07e30ca62c59",
   "metadata": {},
   "outputs": [
    {
     "name": "stdout",
     "output_type": "stream",
     "text": [
      "\n",
      "Feature Importance (Random Forest):\n",
      "    Feature  Importance\n",
      "3   Disease    0.312419\n",
      "1  Symptoms    0.306058\n",
      "2    Causes    0.269709\n",
      "0    Gender    0.111815\n"
     ]
    }
   ],
   "source": [
    "importances = rf_classifier.feature_importances_\n",
    "feature_importance_df = pd.DataFrame({'Feature': X.columns, 'Importance': importances})\n",
    "feature_importance_df = feature_importance_df.sort_values(by='Importance', ascending=False)\n",
    "print(\"\\nFeature Importance (Random Forest):\")\n",
    "print(feature_importance_df)"
   ]
  },
  {
   "cell_type": "markdown",
   "id": "dca615ad-8143-4ff5-9390-76cc630faf40",
   "metadata": {},
   "source": [
    "Model Validation\n",
    "Check for Overfitting/Underfitting-\n",
    "Evaluate learning curves to check if your model is overfitting or underfitting.\n",
    "Consider adjusting model complexity based on these insights."
   ]
  },
  {
   "cell_type": "code",
   "execution_count": 827,
   "id": "7c33d324-db21-44fc-9b6c-7476ada2896a",
   "metadata": {},
   "outputs": [
    {
     "name": "stderr",
     "output_type": "stream",
     "text": [
      "/opt/anaconda3/lib/python3.11/site-packages/sklearn/model_selection/_split.py:700: UserWarning: The least populated class in y has only 1 members, which is less than n_splits=5.\n",
      "  warnings.warn(\n"
     ]
    },
    {
     "data": {
      "image/png": "[encoded data removed]",
      "text/plain": [
       "<Figure size 640x480 with 1 Axes>"
      ]
     },
     "metadata": {},
     "output_type": "display_data"
    }
   ],
   "source": [
    "\n",
    "train_sizes, train_scores, test_scores = learning_curve(\n",
    "    rf_classifier, X, y, cv=5, scoring='accuracy', n_jobs=-1\n",
    ")\n",
    "\n",
    "plt.plot(train_sizes, train_scores.mean(axis=1), 'o-', color='r', label='Training score')\n",
    "plt.plot(train_sizes, test_scores.mean(axis=1), 'o-', color='g', label='Cross-validation score')\n",
    "plt.xlabel('Training examples')\n",
    "plt.ylabel('Score')\n",
    "plt.title('Learning Curve')\n",
    "plt.legend(loc='best')\n",
    "plt.grid()\n",
    "plt.show()\n"
   ]
  },
  {
   "cell_type": "code",
   "execution_count": null,
   "id": "60220921-60cd-4e67-9a47-30c44cfd452a",
   "metadata": {},
   "outputs": [],
   "source": []
  }
 ],
 "metadata": {
  "kernelspec": {
   "display_name": "Python 3 (ipykernel)",
   "language": "python",
   "name": "python3"
  },
  "language_info": {
   "codemirror_mode": {
    "name": "ipython",
    "version": 3
   },
   "file_extension": ".py",
   "mimetype": "text/x-python",
   "name": "python",
   "nbconvert_exporter": "python",
   "pygments_lexer": "ipython3",
   "version": "3.11.7"
  }
 },
 "nbformat": 4,
 "nbformat_minor": 5
}
